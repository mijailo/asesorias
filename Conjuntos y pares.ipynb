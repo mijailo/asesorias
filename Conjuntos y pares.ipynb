{
 "cells": [
  {
   "cell_type": "markdown",
   "metadata": {},
   "source": [
    "# <font color='blue'> Producto cartesiano de conjuntos </font>"
   ]
  },
  {
   "cell_type": "markdown",
   "metadata": {},
   "source": [
    "**Ejemplo 1**"
   ]
  },
  {
   "cell_type": "code",
   "execution_count": 1,
   "metadata": {},
   "outputs": [],
   "source": [
    "#Primero definimos los conjuntos 'factores'\n",
    "A={i for i in range (6)}\n",
    "B={'a','b','c','d'}"
   ]
  },
  {
   "cell_type": "code",
   "execution_count": 2,
   "metadata": {
    "scrolled": true
   },
   "outputs": [
    {
     "name": "stdout",
     "output_type": "stream",
     "text": [
      "{(2, 'c'), (2, 'b'), (0, 'b'), (3, 'd'), (5, 'd'), (0, 'a'), (4, 'c'), (2, 'a'), (4, 'b'), (1, 'c'), (4, 'a'), (1, 'b'), (1, 'a'), (3, 'c'), (2, 'd'), (5, 'c'), (0, 'd'), (3, 'b'), (5, 'b'), (5, 'a'), (3, 'a'), (4, 'd'), (1, 'd'), (0, 'c')}\n"
     ]
    }
   ],
   "source": [
    "#Después calculamos el producto y mostramos sus elementos\n",
    "AxB={(a,b) for b in B for a in A}\n",
    "print(AxB)"
   ]
  },
  {
   "cell_type": "code",
   "execution_count": 3,
   "metadata": {},
   "outputs": [
    {
     "name": "stdout",
     "output_type": "stream",
     "text": [
      "{('d', 5), ('d', 2), ('c', 4), ('c', 1), ('b', 2), ('a', 5), ('b', 5), ('a', 2), ('d', 1), ('d', 4), ('c', 0), ('b', 1), ('c', 3), ('b', 4), ('a', 1), ('a', 4), ('d', 0), ('d', 3), ('c', 2), ('b', 3), ('a', 0), ('b', 0), ('c', 5), ('a', 3)}\n"
     ]
    }
   ],
   "source": [
    "#El producto cartesiano no conmuta\n",
    "print({(b,a) for b in B for a in A})"
   ]
  },
  {
   "cell_type": "markdown",
   "metadata": {},
   "source": [
    "**Ejercicio: ¿cómo calcularías Bx(AxB)?**"
   ]
  },
  {
   "cell_type": "code",
   "execution_count": 4,
   "metadata": {},
   "outputs": [
    {
     "name": "stdout",
     "output_type": "stream",
     "text": [
      "{('a', (0, 'c')), ('d', (5, 'd')), ('d', (3, 'a')), ('c', (1, 'd')), ('d', (2, 'd')), ('c', (0, 'b')), ('b', (3, 'a')), ('c', (3, 'b')), ('c', (4, 'c')), ('b', (2, 'd')), ('d', (2, 'a')), ('a', (1, 'd')), ('d', (5, 'a')), ('b', (5, 'c')), ('c', (1, 'a')), ('a', (0, 'b')), ('b', (5, 'a')), ('a', (3, 'b')), ('a', (4, 'c')), ('c', (3, 'c')), ('a', (3, 'd')), ('c', (4, 'b')), ('a', (2, 'b')), ('c', (1, 'b')), ('b', (0, 'c')), ('c', (2, 'c')), ('a', (0, 'a')), ('a', (4, 'b')), ('a', (1, 'b')), ('d', (5, 'c')), ('a', (2, 'c')), ('c', (1, 'c')), ('c', (4, 'a')), ('b', (0, 'b')), ('d', (0, 'd')), ('d', (4, 'd')), ('b', (3, 'b')), ('c', (5, 'b')), ('b', (0, 'd')), ('b', (4, 'd')), ('b', (3, 'd')), ('a', (1, 'c')), ('c', (5, 'd')), ('a', (4, 'a')), ('d', (0, 'c')), ('b', (2, 'b')), ('c', (3, 'a')), ('a', (1, 'a')), ('a', (5, 'b')), ('c', (2, 'd')), ('c', (5, 'c')), ('b', (0, 'a')), ('a', (3, 'c')), ('a', (5, 'd')), ('c', (2, 'a')), ('c', (5, 'a')), ('b', (1, 'b')), ('d', (1, 'd')), ('b', (2, 'c')), ('a', (2, 'd')), ('d', (0, 'b')), ('b', (1, 'd')), ('d', (3, 'b')), ('a', (2, 'a')), ('d', (4, 'c')), ('a', (5, 'a')), ('c', (0, 'c')), ('d', (3, 'd')), ('b', (4, 'c')), ('b', (1, 'c')), ('d', (2, 'b')), ('b', (1, 'a')), ('d', (3, 'c')), ('d', (0, 'a')), ('d', (4, 'b')), ('b', (3, 'c')), ('b', (5, 'd')), ('d', (1, 'b')), ('d', (2, 'c')), ('b', (4, 'b')), ('a', (3, 'a')), ('c', (0, 'd')), ('c', (4, 'd')), ('c', (3, 'd')), ('b', (2, 'a')), ('a', (5, 'c')), ('c', (2, 'b')), ('d', (1, 'c')), ('a', (0, 'd')), ('d', (4, 'a')), ('a', (4, 'd')), ('c', (0, 'a')), ('d', (1, 'a')), ('d', (5, 'b')), ('b', (4, 'a')), ('b', (5, 'b'))}\n"
     ]
    }
   ],
   "source": [
    "Bx_AxB={(a0,b0) for a0 in B for b0 in AxB}\n",
    "print(Bx_AxB)"
   ]
  },
  {
   "cell_type": "code",
   "execution_count": 6,
   "metadata": {},
   "outputs": [
    {
     "ename": "SyntaxError",
     "evalue": "cannot assign to literal (<ipython-input-6-1e88479f28a0>, line 1)",
     "output_type": "error",
     "traceback": [
      "\u001b[0;36m  File \u001b[0;32m\"<ipython-input-6-1e88479f28a0>\"\u001b[0;36m, line \u001b[0;32m1\u001b[0m\n\u001b[0;31m    'a'+='a'\u001b[0m\n\u001b[0m    ^\u001b[0m\n\u001b[0;31mSyntaxError\u001b[0m\u001b[0;31m:\u001b[0m cannot assign to literal\n"
     ]
    }
   ],
   "source": [
    "'a'+='a'"
   ]
  },
  {
   "cell_type": "code",
   "execution_count": null,
   "metadata": {},
   "outputs": [],
   "source": []
  }
 ],
 "metadata": {
  "kernelspec": {
   "display_name": "Python 3",
   "language": "python",
   "name": "python3"
  },
  "language_info": {
   "codemirror_mode": {
    "name": "ipython",
    "version": 3
   },
   "file_extension": ".py",
   "mimetype": "text/x-python",
   "name": "python",
   "nbconvert_exporter": "python",
   "pygments_lexer": "ipython3",
   "version": "3.8.1"
  }
 },
 "nbformat": 4,
 "nbformat_minor": 2
}

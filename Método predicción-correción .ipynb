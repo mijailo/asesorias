{
 "cells": [
  {
   "cell_type": "code",
   "execution_count": 1,
   "metadata": {},
   "outputs": [],
   "source": [
    "import math\n",
    "import matplotlib.pyplot as plt"
   ]
  },
  {
   "cell_type": "markdown",
   "metadata": {},
   "source": [
    "# Método predictor-correcctor: Runge-Kutta 4 + Adams-Bashforth-Moulton 4 pasos\n",
    "## Para resolver la ecuación $y'=f(t,y)$ sujeta a $y(t_0)=y_0$."
   ]
  },
  {
   "cell_type": "markdown",
   "metadata": {},
   "source": [
    "Un método *predictor-corrector* (o de *predicción corrección*) es la combinación de una técnica explícita con una implícita. Aquí aplicaremos el **método RK4**:<br/><br/>\n",
    "    \\begin{gather*}\n",
    "        y_{n+1}=y_n +\\frac{h}{6}(k_1+2k_2+2k_3+k_4) \\\\\n",
    "        \\text{donde:}\\\\\n",
    "        k_1=f(x_n,y_n),\\\\\n",
    "        k_2=f(x_n+\\frac{1}{2}h,y_n+\\frac{1}{2}hk_1),\\\\\n",
    "        k_3=f(x_n+\\frac{1}{2}h,y_n+\\frac{1}{2}hk_2),\\\\\n",
    "        k_4=f(x_n+h,y_n+hk_3);\\\\\n",
    "    \\end{gather*}<br/><br/>\n",
    "para inicializar el problema y obtener $\\{y_i\\}_{i=0}^3$. Después, usaremos la fórmula explícita de Adams-Bashforth (*parte predictora*) de 4 pasos:<br/><br/>\n",
    "    \\begin{gather}\n",
    "        y_{i+1}=y_i+\\frac{h}{24}\\left[ 55 f (t_i,y_i) -59 f (t_{i-1},y_{i-1})\n",
    "            +37f(t_{i-2},y_{i-2}) -9f(t_{i-3},y_{i-3})\\right]\n",
    "    \\end{gather}<br/><br/>\n",
    "combinada con la fórmula implícita de Adams-Moulton (*parte correctora*) de 4 pasos:<br/><br/>\n",
    "    \\begin{gather}\n",
    "        y_{i+1}=y_i+\\frac{h}{720}\\left[ 251 f(t_{i+1},y_{i+1})+646f(t_i,y_i)-\n",
    "        264f(t_{i-1},y_{i-1})+106f(t_{i-2},y_{i-2})-19f(t_{i-3},y_{i-3})\\right]\n",
    "    \\end{gather}<br/><br/>"
   ]
  },
  {
   "cell_type": "markdown",
   "metadata": {},
   "source": [
    "## 1. Definir el método numérico"
   ]
  },
  {
   "cell_type": "code",
   "execution_count": 2,
   "metadata": {},
   "outputs": [],
   "source": [
    "# Definir el método RK4 (inicialización)\n",
    "#f0=función, (x0,y0)=condición inicial, xf=punto final, h0=tamaño de incremento\n",
    "def rk4(f0,x0,y0,xf,h0):\n",
    "    n0=int((xf-x0)/h0)\n",
    "    X=[x0+i*h0 for i in range(n0+1)]\n",
    "    Y=[y0]\n",
    "    for x in X:\n",
    "        k1=f0(x,Y[-1])\n",
    "        k2=f0(x+h0/2,Y[-1]+h0*k1/2)\n",
    "        k3=f0(x+h0/2,Y[-1]+h0*k2/2)\n",
    "        k4=f0(x+h0,Y[-1]+h0*k3)\n",
    "        Y.append(Y[-1]+(h0/6)*(k1+2*k2+2*k3+k4))\n",
    "    return X,Y[:-1]\n",
    "\n",
    "# Definir la predicción (xj=(ti,yi) son las duplas (t_{j-i},y_{j-i}))\n",
    "def pred(f0,x0,x1,x2,x3,h0):\n",
    "    return x0[1]+(h0/24)*(55*f0(x0[0],x0[1])-59*f0(x1[0],x1[1])\n",
    "                          +37*f0(x2[0],x2[1])-9*f0(x3[0],x3[1]))\n",
    "\n",
    "# Definir la corrección\n",
    "def corr(f0,x0,x1,x2,x3,x4,h0):\n",
    "    return x1[1]+(h0/720)*(251*f0(x0[0],x0[1])\n",
    "                           +646*f0(x1[0],x1[1])-264*f0(x2[0],x2[1])\n",
    "                           +106*f0(x3[0],x3[1])-19*f0(x4[0],x4[1]))"
   ]
  },
  {
   "cell_type": "code",
   "execution_count": 3,
   "metadata": {},
   "outputs": [],
   "source": [
    "#Combinar las rutinas\n",
    "def pred_corr(f0,t0,y0,tf,h0):\n",
    "    n0=int((tf-t0)/h0)\n",
    "    T=[t0+i*h0 for i in range(n0+1)]\n",
    "    Y=rk4(f0,t0,y0,t0+3*h0,h0)[1]\n",
    "    for i in range(3,n0):\n",
    "        y=pred(f0,(T[i],Y[-1]),(T[i-1],Y[-2]),(T[i-2],Y[-3]),\n",
    "               (T[i-3],Y[-4]),h0)\n",
    "        y=corr(f0,(T[i+1],y),(T[i],Y[-1]),(T[i-1],Y[-2]),\n",
    "               (T[i-2],Y[-3]),(T[i-3],Y[-4]),h0)\n",
    "        Y.append(y)\n",
    "    return T,Y"
   ]
  },
  {
   "cell_type": "markdown",
   "metadata": {},
   "source": [
    "## 2. Definir la ecuación diferencial con las condiciones iniciales, intervalo de integración y tamaño de paso\n",
    "$y'(t)=ty^3\\sin(-ty),\\;y'(1)=-2,\\;t\\in[1,10]$"
   ]
  },
  {
   "cell_type": "code",
   "execution_count": 7,
   "metadata": {},
   "outputs": [],
   "source": [
    "f=lambda t,y:t*y**3*math.sin(-y*t)\n",
    "g=lambda t,y:t*y**3*math.cos(-y*t)\n",
    "t_inicial,y_inicial,t_final=1,-2,10\n",
    "h=0.01"
   ]
  },
  {
   "cell_type": "code",
   "execution_count": 9,
   "metadata": {},
   "outputs": [
    {
     "data": {
      "text/plain": [
       "<matplotlib.legend.Legend at 0x7faf54a63128>"
      ]
     },
     "execution_count": 9,
     "metadata": {},
     "output_type": "execute_result"
    },
    {
     "data": {
      "image/png": "[encoded data removed]",
      "text/plain": [
       "<Figure size 864x432 with 1 Axes>"
      ]
     },
     "metadata": {
      "needs_background": "light"
     },
     "output_type": "display_data"
    }
   ],
   "source": [
    "#Sacar la solución y graficar\n",
    "PC1=pred_corr(f,t_inicial,y_inicial,t_final,h)\n",
    "PC2=pred_corr(g,t_inicial,y_inicial,t_final,h)\n",
    "\n",
    "plt.figure(figsize=(12,6))\n",
    "plt.plot(PC1[0],PC1[1],lw=0.7,label='Solución 1')\n",
    "plt.plot(PC2[0],PC2[1],lw=0.7,label='Solución 2')\n",
    "\n",
    "plt.title('Adams-Bashforth-Moulton')\n",
    "plt.legend()\n",
    "#plt.savefig('grafica.pdf',format='pdf')"
   ]
  },
  {
   "cell_type": "code",
   "execution_count": null,
   "metadata": {},
   "outputs": [],
   "source": []
  }
 ],
 "metadata": {
  "kernelspec": {
   "display_name": "Python 3",
   "language": "python",
   "name": "python3"
  },
  "language_info": {
   "codemirror_mode": {
    "name": "ipython",
    "version": 3
   },
   "file_extension": ".py",
   "mimetype": "text/x-python",
   "name": "python",
   "nbconvert_exporter": "python",
   "pygments_lexer": "ipython3",
   "version": "3.7.3"
  }
 },
 "nbformat": 4,
 "nbformat_minor": 2
}

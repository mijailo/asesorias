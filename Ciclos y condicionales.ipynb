{
 "cells": [
  {
   "cell_type": "markdown",
   "metadata": {},
   "source": [
    "# <font color='blue'> Tabla de potencias </font>"
   ]
  },
  {
   "cell_type": "code",
   "execution_count": 17,
   "metadata": {},
   "outputs": [
    {
     "name": "stdout",
     "output_type": "stream",
     "text": [
      "i\t i^2 \t i^3 \t i^4 \n",
      " ------------------------------\n",
      "1 \t1 \t1 \t1 \t\n",
      "2 \t4 \t8 \t16 \t\n",
      "3 \t9 \t27 \t81 \t\n",
      "4 \t16 \t64 \t256 \t\n",
      "5 \t25 \t125 \t625 \t\n",
      "6 \t36 \t216 \t1296 \t\n",
      "7 \t49 \t343 \t2401 \t\n",
      "8 \t64 \t512 \t4096 \t\n",
      "9 \t81 \t729 \t6561 \t\n",
      "10 \t100 \t1000 \t10000 \t\n"
     ]
    }
   ],
   "source": [
    "print('i\\t i^2 \\t i^3 \\t i^4','\\n','-'*30)\n",
    "for i in range(1,11):\n",
    "    print(('{} \\t'*4).format(i,i**2,i**3,i**4))"
   ]
  },
  {
   "cell_type": "code",
   "execution_count": null,
   "metadata": {},
   "outputs": [],
   "source": []
  }
 ],
 "metadata": {
  "kernelspec": {
   "display_name": "Python 3",
   "language": "python",
   "name": "python3"
  },
  "language_info": {
   "codemirror_mode": {
    "name": "ipython",
    "version": 3
   },
   "file_extension": ".py",
   "mimetype": "text/x-python",
   "name": "python",
   "nbconvert_exporter": "python",
   "pygments_lexer": "ipython3",
   "version": "3.8.1"
  }
 },
 "nbformat": 4,
 "nbformat_minor": 2
}

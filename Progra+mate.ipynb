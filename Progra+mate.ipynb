{
 "cells": [
  {
   "cell_type": "markdown",
   "metadata": {},
   "source": [
    "# <font color='crimson'> Un libro en Python </font>"
   ]
  },
  {
   "cell_type": "markdown",
   "metadata": {},
   "source": [
    "# ¿Qué es _Markdown_ ?\n",
    "\n",
    "## Sirve para:\n",
    "- Escribir sin distracciones.\n",
    "- Aprender a **programar**.\\\n",
    "Por ejemplo, hacer un link para incluir páginas [web]\n",
    "[web]: https://www.wikipedia.com/"
   ]
  },
  {
   "cell_type": "markdown",
   "metadata": {},
   "source": [
    "# Ejercicios de suma y resta\n",
    "## _Receta:_\n",
    "1. Piensa en un número de cinco cifras diferentes:\n",
    "    $$X=12367$$\n",
    "2. Intercambia el primer dígito con el último:\n",
    "    $$X'=72361$$\n",
    "3. Réstale el más pequeño al más grande:\n",
    "    $$Y=X'-X=59994$$\n",
    "4. Ahora intercambia la primera cifra con la última:\n",
    "    $$Y'=49995$$\n",
    "5. Suma ambos:\n",
    "    $$Y+Y'= 109989$$\n",
    "6. Tu turno:"
   ]
  },
  {
   "cell_type": "markdown",
   "metadata": {},
   "source": [
    "# Órdenes de magnitud\n",
    "- Unidades = $$10^{0}$$\n",
    "- Decenas = $$10^{1}$$\n",
    "- Centenas = $$10^{3}$$"
   ]
  },
  {
   "cell_type": "code",
   "execution_count": null,
   "metadata": {},
   "outputs": [],
   "source": []
  }
 ],
 "metadata": {
  "kernelspec": {
   "display_name": "Python 3",
   "language": "python",
   "name": "python3"
  },
  "language_info": {
   "codemirror_mode": {
    "name": "ipython",
    "version": 3
   },
   "file_extension": ".py",
   "mimetype": "text/x-python",
   "name": "python",
   "nbconvert_exporter": "python",
   "pygments_lexer": "ipython3",
   "version": "3.8.1"
  }
 },
 "nbformat": 4,
 "nbformat_minor": 2
}
